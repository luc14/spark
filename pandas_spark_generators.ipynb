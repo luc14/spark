{
 "cells": [
  {
   "cell_type": "code",
   "execution_count": 1,
   "metadata": {
    "collapsed": false
   },
   "outputs": [],
   "source": [
    "import re,glob\n",
    "import pandas as pd\n",
    "import datetime\n",
    "import findspark\n",
    "findspark.init()\n",
    "import pyspark\n",
    "import pyspark.sql.functions as F\n",
    "import pyspark.sql.types as T"
   ]
  },
  {
   "cell_type": "code",
   "execution_count": 2,
   "metadata": {
    "collapsed": true
   },
   "outputs": [],
   "source": [
    "sc = pyspark.SparkContext('local', 'spark')\n",
    "sqlContext = pyspark.SQLContext(sc)"
   ]
  },
  {
   "cell_type": "code",
   "execution_count": 3,
   "metadata": {
    "collapsed": false
   },
   "outputs": [],
   "source": [
    "file_pattern = './generators/kdlog/*'\n",
    "pattern = r'(\\S+) (\\S+) (\\S+) \\[(\\S+) \\S+\\] \"(\\S+) (\\S+) (\\S+)\" (\\S+) (\\S+) \"(\\S*)\" \"(.*?)\"'\n",
    "col_names = ['host', 'name', 'login_name', 'date_time', 'method', 'request_url', 'version', 'status', 'size', 'referrer', 'agent']"
   ]
  },
  {
   "cell_type": "code",
   "execution_count": 4,
   "metadata": {
    "collapsed": false
   },
   "outputs": [],
   "source": [
    "def gen_files(filenames):\n",
    "    for filename in filenames:\n",
    "        if filename.endswith('.bz2'):\n",
    "            file = bz2.open(filename, 'rt')\n",
    "        elif filename.endswith('.gz'):\n",
    "            file = gzip.open(filename, 'rt')\n",
    "        else:\n",
    "            file = open(filename)\n",
    "        yield file\n",
    "\n",
    "def gen_lines(files):\n",
    "    for file in files:\n",
    "        for line in file:\n",
    "            yield line\n",
    "\n",
    "def gen_extract(lines, pattern):\n",
    "    for line in lines:\n",
    "        m = re.search(pattern, line)\n",
    "        try:\n",
    "            yield m.groups()\n",
    "        except:\n",
    "            print(m, line)\n",
    "            \n",
    "def gen_transform_col(rows, col_names, func):\n",
    "    errors = set()\n",
    "    for row in rows:\n",
    "        try:\n",
    "            for column in col_names:\n",
    "                row[column] = func(row[column])\n",
    "            yield row\n",
    "        except Exception as e:\n",
    "            error = (e.args, type(e))\n",
    "            if error not in errors:\n",
    "                errors.add(error)\n",
    "                print(error)"
   ]
  },
  {
   "cell_type": "code",
   "execution_count": 5,
   "metadata": {
    "collapsed": false
   },
   "outputs": [
    {
     "name": "stderr",
     "output_type": "stream",
     "text": [
      "/Library/Frameworks/Python.framework/Versions/3.5/lib/python3.5/site-packages/ipykernel/__main__.py:19: FutureWarning: currently extract(expand=None) means expand=False (return Index/Series/DataFrame) but in a future version of pandas this will be changed to expand=True (return DataFrame)\n"
     ]
    }
   ],
   "source": [
    "#generator\n",
    "filenames = glob.iglob(file_pattern, recursive=True)\n",
    "files = gen_files(filenames)\n",
    "lines = gen_lines(files)\n",
    "#pandas\n",
    "filenames = glob.iglob(file_pattern, recursive=True) #this line has to be written again because filenames will be used up \n",
    "pd_df = pd.concat((pd.read_csv(filename, sep='$', header=None, names=['value',]) for filename in filenames),\n",
    "               ignore_index=True)\n",
    "#Spark\n",
    "##Spark takes care of generating filenames\n",
    "spark_df = sqlContext.read.text(file_pattern)\n",
    "\n",
    "\n",
    "#generator\n",
    "gen_df = gen_extract(lines, pattern)\n",
    "##rename columns in gen_df\n",
    "gen_df = ({col_name: row[i] for i, col_name in enumerate(col_names)} for row in gen_df)\n",
    "#pandas\n",
    "pd_df = pd_df['value'].str.extract(pattern).rename(columns = lambda i: col_names[i])\n",
    "#Spark\n",
    "extract_expr = [F.regexp_extract(spark_df['value'], pattern, i+1).alias(col_name) \n",
    "                for i, col_name in enumerate(col_names)]\n",
    "spark_df = spark_df.select(extract_expr)\n",
    "\n",
    "\n",
    "#generator\n",
    "gen_df = gen_transform_col(gen_df, col_names, lambda x: None if x == '-' else x)\n",
    "#pandas\n",
    "##without [] around None, pandas replace will think it should fill in the holes in its own method \n",
    "pd_df = pd_df.replace(to_replace=['-'], value=[None])\n",
    "#Spark\n",
    "##when regexp_extract fails to match the pattern, it will return '' instead of None\n",
    "replace_expr = [F.when(spark_df[col].isin('', '-'), None).otherwise(spark_df[col]).alias(col)\n",
    "                for col in col_names]\n",
    "spark_df = spark_df.select(replace_expr)\n",
    "\n",
    "\n",
    "#generator\n",
    "def to_int(x):\n",
    "    if x is not None:\n",
    "        return int(x)\n",
    "    return None\n",
    "def to_datetime(x):\n",
    "    return datetime.datetime.strptime(x, '%d/%b/%Y:%H:%M:%S')\n",
    "gen_df = gen_transform_col(gen_df, ['size', 'status'], to_int)\n",
    "gen_df = gen_transform_col(gen_df, ['date_time'], to_datetime)\n",
    "#pandas\n",
    "pd_df['status'] = pd.to_numeric(pd_df['status'], errors = 'coerce')\n",
    "pd_df['size'] = pd.to_numeric(pd_df['size'], errors = 'coerce')\n",
    "pd_df['date_time'] = pd.to_datetime(pd_df['date_time'], format='%d/%b/%Y:%H:%M:%S')\n",
    "#Spark\n",
    "spark_df = spark_df.withColumn('status', spark_df['status'].astype(T.IntegerType()))\n",
    "spark_df = spark_df.withColumn('size', spark_df['size'].astype(T.IntegerType()))                        \n",
    "spark_df = spark_df.withColumn('date_time', \n",
    "    F.unix_timestamp('date_time', 'd/MMM/y:H:m:s').astype(T.TimestampType()))"
   ]
  },
  {
   "cell_type": "code",
   "execution_count": 7,
   "metadata": {
    "collapsed": false
   },
   "outputs": [
    {
     "name": "stdout",
     "output_type": "stream",
     "text": [
      "{'referrer': 'http://www.google.com/search?hs=JnE&hl=en&lr=&client=opera&rls=en&q=lift+curve&btnG=Search', 'date_time': datetime.datetime(2005, 11, 16, 0, 2, 46), 'version': 'HTTP/1.1', 'request_url': '/gpspubs/kdd99-est-ben-lift/sld021.htm', 'name': None, 'agent': 'Mozilla/4.0 (compatible; MSIE 6.0; X11; Linux i686; en) Opera 8.5', 'status': 200, 'login_name': None, 'method': 'GET', 'host': 'ip1389.net', 'size': 1385}\n",
      "{'referrer': 'http://www.kdnuggets.com/gpspubs/kdd99-est-ben-lift/sld021.htm', 'date_time': datetime.datetime(2005, 11, 16, 0, 2, 46), 'version': 'HTTP/1.1', 'request_url': '/gpspubs/kdd99-est-ben-lift/img021.gif', 'name': None, 'agent': 'Mozilla/4.0 (compatible; MSIE 6.0; X11; Linux i686; en) Opera 8.5', 'status': 200, 'login_name': None, 'method': 'GET', 'host': 'ip1389.net', 'size': 7465}\n",
      "{'referrer': 'http://www.kdnuggets.com/gpspubs/kdd99-est-ben-lift/sld021.htm', 'date_time': datetime.datetime(2005, 11, 16, 0, 2, 47), 'version': 'HTTP/1.1', 'request_url': '/favicon.ico', 'name': None, 'agent': 'Mozilla/4.0 (compatible; MSIE 6.0; X11; Linux i686; en) Opera 8.5', 'status': 200, 'login_name': None, 'method': 'GET', 'host': 'ip1389.net', 'size': 899}\n",
      "{'referrer': None, 'date_time': datetime.datetime(2005, 11, 16, 0, 2, 49), 'version': 'HTTP/1.0', 'request_url': '/news/2001/n10/15i.html', 'name': None, 'agent': 'Mozilla/5.0 (compatible; Yahoo! Slurp; http://help.yahoo.com/help/us/ysearch/slurp)', 'status': 200, 'login_name': None, 'method': 'GET', 'host': 'ip1946.com', 'size': 4214}\n",
      "{'referrer': None, 'date_time': datetime.datetime(2005, 11, 16, 0, 2, 52), 'version': 'HTTP/1.0', 'request_url': '/aps/bt4-a.sol_crm.re.html', 'name': None, 'agent': 'Mozilla/4.0 (compatible; MSIE 6.0; Windows NT; MS Search 4.0 Robot)', 'status': 304, 'login_name': None, 'method': 'GET', 'host': 'ip992.unr', 'size': None}\n"
     ]
    }
   ],
   "source": [
    "#At this point, pandas has processed data, but generators and Spark haven't yet. \n",
    "#We can look at what gererators do by printing a few lines\n",
    "for i in range(5):\n",
    "    print(next(gen_df))"
   ]
  },
  {
   "cell_type": "code",
   "execution_count": 8,
   "metadata": {
    "collapsed": false
   },
   "outputs": [
    {
     "data": {
      "text/html": [
       "<div>\n",
       "<table border=\"1\" class=\"dataframe\">\n",
       "  <thead>\n",
       "    <tr style=\"text-align: right;\">\n",
       "      <th></th>\n",
       "      <th>host</th>\n",
       "      <th>name</th>\n",
       "      <th>login_name</th>\n",
       "      <th>date_time</th>\n",
       "      <th>method</th>\n",
       "      <th>request_url</th>\n",
       "      <th>version</th>\n",
       "      <th>status</th>\n",
       "      <th>size</th>\n",
       "      <th>referrer</th>\n",
       "      <th>agent</th>\n",
       "    </tr>\n",
       "  </thead>\n",
       "  <tbody>\n",
       "    <tr>\n",
       "      <th>0</th>\n",
       "      <td>ip1664.com</td>\n",
       "      <td>None</td>\n",
       "      <td>None</td>\n",
       "      <td>2005-11-16 00:00:43</td>\n",
       "      <td>GET</td>\n",
       "      <td>/robots.txt</td>\n",
       "      <td>HTTP/1.0</td>\n",
       "      <td>200</td>\n",
       "      <td>173.0</td>\n",
       "      <td>None</td>\n",
       "      <td>msnbot/1.0 (+http://search.msn.com/msnbot.htm)</td>\n",
       "    </tr>\n",
       "    <tr>\n",
       "      <th>1</th>\n",
       "      <td>ip1664.com</td>\n",
       "      <td>None</td>\n",
       "      <td>None</td>\n",
       "      <td>2005-11-16 00:00:43</td>\n",
       "      <td>GET</td>\n",
       "      <td>/gpspubs/sigkdd-kdd99-panel.html</td>\n",
       "      <td>HTTP/1.0</td>\n",
       "      <td>200</td>\n",
       "      <td>14199.0</td>\n",
       "      <td>None</td>\n",
       "      <td>msnbot/1.0 (+http://search.msn.com/msnbot.htm)</td>\n",
       "    </tr>\n",
       "    <tr>\n",
       "      <th>2</th>\n",
       "      <td>ip1115.unr</td>\n",
       "      <td>None</td>\n",
       "      <td>None</td>\n",
       "      <td>2005-11-16 00:01:00</td>\n",
       "      <td>GET</td>\n",
       "      <td>/news/99/n23/i12.html</td>\n",
       "      <td>HTTP/1.1</td>\n",
       "      <td>200</td>\n",
       "      <td>3171.0</td>\n",
       "      <td>http://discount-blah1.professional-doctor.com/</td>\n",
       "      <td>Mozilla/4.0 (compatible; MSIE 5.5; Windows 98;...</td>\n",
       "    </tr>\n",
       "    <tr>\n",
       "      <th>3</th>\n",
       "      <td>ip2283.unr</td>\n",
       "      <td>None</td>\n",
       "      <td>None</td>\n",
       "      <td>2005-11-16 00:01:02</td>\n",
       "      <td>GET</td>\n",
       "      <td>/dmcourse/data_mining_course/assignments/assig...</td>\n",
       "      <td>HTTP/1.1</td>\n",
       "      <td>200</td>\n",
       "      <td>8090.0</td>\n",
       "      <td>http://www.google.com/search?hl=en&amp;q=use+of+da...</td>\n",
       "      <td>Mozilla/4.0 (compatible; MSIE 6.0; Windows NT ...</td>\n",
       "    </tr>\n",
       "    <tr>\n",
       "      <th>4</th>\n",
       "      <td>ip2283.unr</td>\n",
       "      <td>None</td>\n",
       "      <td>None</td>\n",
       "      <td>2005-11-16 00:01:03</td>\n",
       "      <td>GET</td>\n",
       "      <td>/dmcourse/dm.css</td>\n",
       "      <td>HTTP/1.1</td>\n",
       "      <td>200</td>\n",
       "      <td>155.0</td>\n",
       "      <td>http://www.kdnuggets.com/dmcourse/data_mining_...</td>\n",
       "      <td>Mozilla/4.0 (compatible; MSIE 6.0; Windows NT ...</td>\n",
       "    </tr>\n",
       "  </tbody>\n",
       "</table>\n",
       "</div>"
      ],
      "text/plain": [
       "         host  name login_name           date_time method  \\\n",
       "0  ip1664.com  None       None 2005-11-16 00:00:43    GET   \n",
       "1  ip1664.com  None       None 2005-11-16 00:00:43    GET   \n",
       "2  ip1115.unr  None       None 2005-11-16 00:01:00    GET   \n",
       "3  ip2283.unr  None       None 2005-11-16 00:01:02    GET   \n",
       "4  ip2283.unr  None       None 2005-11-16 00:01:03    GET   \n",
       "\n",
       "                                         request_url   version  status  \\\n",
       "0                                        /robots.txt  HTTP/1.0     200   \n",
       "1                   /gpspubs/sigkdd-kdd99-panel.html  HTTP/1.0     200   \n",
       "2                              /news/99/n23/i12.html  HTTP/1.1     200   \n",
       "3  /dmcourse/data_mining_course/assignments/assig...  HTTP/1.1     200   \n",
       "4                                   /dmcourse/dm.css  HTTP/1.1     200   \n",
       "\n",
       "      size                                           referrer  \\\n",
       "0    173.0                                               None   \n",
       "1  14199.0                                               None   \n",
       "2   3171.0     http://discount-blah1.professional-doctor.com/   \n",
       "3   8090.0  http://www.google.com/search?hl=en&q=use+of+da...   \n",
       "4    155.0  http://www.kdnuggets.com/dmcourse/data_mining_...   \n",
       "\n",
       "                                               agent  \n",
       "0     msnbot/1.0 (+http://search.msn.com/msnbot.htm)  \n",
       "1     msnbot/1.0 (+http://search.msn.com/msnbot.htm)  \n",
       "2  Mozilla/4.0 (compatible; MSIE 5.5; Windows 98;...  \n",
       "3  Mozilla/4.0 (compatible; MSIE 6.0; Windows NT ...  \n",
       "4  Mozilla/4.0 (compatible; MSIE 6.0; Windows NT ...  "
      ]
     },
     "execution_count": 8,
     "metadata": {},
     "output_type": "execute_result"
    }
   ],
   "source": [
    "#we can look at pandas dataframe directly\n",
    "pd_df.head(5)"
   ]
  },
  {
   "cell_type": "code",
   "execution_count": 9,
   "metadata": {
    "collapsed": false
   },
   "outputs": [
    {
     "data": {
      "text/plain": [
       "[Row(host='ip1664.com', name=None, login_name=None, date_time=datetime.datetime(2005, 11, 16, 0, 0, 43), method='GET', request_url='/robots.txt', version='HTTP/1.0', status=200, size=173, referrer=None, agent='msnbot/1.0 (+http://search.msn.com/msnbot.htm)'),\n",
       " Row(host='ip1664.com', name=None, login_name=None, date_time=datetime.datetime(2005, 11, 16, 0, 0, 43), method='GET', request_url='/gpspubs/sigkdd-kdd99-panel.html', version='HTTP/1.0', status=200, size=14199, referrer=None, agent='msnbot/1.0 (+http://search.msn.com/msnbot.htm)'),\n",
       " Row(host='ip1115.unr', name=None, login_name=None, date_time=datetime.datetime(2005, 11, 16, 0, 1), method='GET', request_url='/news/99/n23/i12.html', version='HTTP/1.1', status=200, size=3171, referrer='http://discount-blah1.professional-doctor.com/', agent='Mozilla/4.0 (compatible; MSIE 5.5; Windows 98; SAFEXPLORER TL)'),\n",
       " Row(host='ip2283.unr', name=None, login_name=None, date_time=datetime.datetime(2005, 11, 16, 0, 1, 2), method='GET', request_url='/dmcourse/data_mining_course/assignments/assignment-3.html', version='HTTP/1.1', status=200, size=8090, referrer='http://www.google.com/search?hl=en&q=use+of+data+cleaning+in+data+mining&spell=1', agent='Mozilla/4.0 (compatible; MSIE 6.0; Windows NT 5.1; SV1)'),\n",
       " Row(host='ip2283.unr', name=None, login_name=None, date_time=datetime.datetime(2005, 11, 16, 0, 1, 3), method='GET', request_url='/dmcourse/dm.css', version='HTTP/1.1', status=200, size=155, referrer='http://www.kdnuggets.com/dmcourse/data_mining_course/assignments/assignment-3.html', agent='Mozilla/4.0 (compatible; MSIE 6.0; Windows NT 5.1; SV1)')]"
      ]
     },
     "execution_count": 9,
     "metadata": {},
     "output_type": "execute_result"
    }
   ],
   "source": [
    "# We can look at Spark dataframe by executing an action\n",
    "spark_df.take(5)\n",
    "#spark_df.show(5)"
   ]
  }
 ],
 "metadata": {
  "celltoolbar": "Raw Cell Format",
  "kernelspec": {
   "display_name": "Python 3",
   "language": "python",
   "name": "python3"
  },
  "language_info": {
   "codemirror_mode": {
    "name": "ipython",
    "version": 3
   },
   "file_extension": ".py",
   "mimetype": "text/x-python",
   "name": "python",
   "nbconvert_exporter": "python",
   "pygments_lexer": "ipython3",
   "version": "3.5.0"
  }
 },
 "nbformat": 4,
 "nbformat_minor": 0
}
